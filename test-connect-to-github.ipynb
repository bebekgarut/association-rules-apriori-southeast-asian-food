{
 "cells": [
  {
   "cell_type": "code",
   "execution_count": 1,
   "id": "d979ce1e",
   "metadata": {
    "_cell_guid": "b1076dfc-b9ad-4769-8c92-a6c4dae69d19",
    "_uuid": "8f2839f25d086af736a60e9eeb907d3b93b6e0e5",
    "execution": {
     "iopub.execute_input": "2025-07-10T08:19:41.339635Z",
     "iopub.status.busy": "2025-07-10T08:19:41.339102Z",
     "iopub.status.idle": "2025-07-10T08:19:41.348155Z",
     "shell.execute_reply": "2025-07-10T08:19:41.347190Z"
    },
    "papermill": {
     "duration": 0.013419,
     "end_time": "2025-07-10T08:19:41.349701",
     "exception": false,
     "start_time": "2025-07-10T08:19:41.336282",
     "status": "completed"
    },
    "tags": []
   },
   "outputs": [
    {
     "name": "stdout",
     "output_type": "stream",
     "text": [
      "Yamal meng blitz\n"
     ]
    }
   ],
   "source": [
    "print(\"Yamal meng blitz\")"
   ]
  }
 ],
 "metadata": {
  "kaggle": {
   "accelerator": "none",
   "dataSources": [],
   "dockerImageVersionId": 31089,
   "isGpuEnabled": false,
   "isInternetEnabled": true,
   "language": "python",
   "sourceType": "notebook"
  },
  "kernelspec": {
   "display_name": "Python 3",
   "language": "python",
   "name": "python3"
  },
  "language_info": {
   "codemirror_mode": {
    "name": "ipython",
    "version": 3
   },
   "file_extension": ".py",
   "mimetype": "text/x-python",
   "name": "python",
   "nbconvert_exporter": "python",
   "pygments_lexer": "ipython3",
   "version": "3.11.13"
  },
  "papermill": {
   "default_parameters": {},
   "duration": 5.554934,
   "end_time": "2025-07-10T08:19:41.770202",
   "environment_variables": {},
   "exception": null,
   "input_path": "__notebook__.ipynb",
   "output_path": "__notebook__.ipynb",
   "parameters": {},
   "start_time": "2025-07-10T08:19:36.215268",
   "version": "2.6.0"
  }
 },
 "nbformat": 4,
 "nbformat_minor": 5
}
